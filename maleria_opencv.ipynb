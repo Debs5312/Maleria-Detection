{
  "nbformat": 4,
  "nbformat_minor": 0,
  "metadata": {
    "colab": {
      "name": "maleria opencv.ipynb",
      "version": "0.3.2",
      "provenance": [],
      "collapsed_sections": []
    },
    "kernelspec": {
      "name": "python3",
      "display_name": "Python 3"
    },
    "accelerator": "GPU"
  },
  "cells": [
    {
      "cell_type": "code",
      "metadata": {
        "id": "WDFOk810ktLZ",
        "colab_type": "code",
        "outputId": "f5b52217-1e1f-41d1-f90f-f3a5800f597c",
        "colab": {
          "base_uri": "https://localhost:8080/",
          "height": 90
        }
      },
      "source": [
        "!ls -lha kaggle.json\n",
        "!pip install -q kaggle\n",
        "!mkdir -p ~/.kaggle\n",
        "!cp kaggle.json ~/.kaggle/\n",
        "!chmod 600 ~/.kaggle/kaggle.json\n",
        "!kaggle datasets download -d iarunava/cell-images-for-detecting-malaria"
      ],
      "execution_count": 1,
      "outputs": [
        {
          "output_type": "stream",
          "text": [
            "-rw-r--r-- 1 root root 63 Sep 13 06:22 kaggle.json\n",
            "Downloading cell-images-for-detecting-malaria.zip to /content\n",
            " 98% 329M/337M [00:07<00:00, 55.9MB/s]\n",
            "100% 337M/337M [00:07<00:00, 48.2MB/s]\n"
          ],
          "name": "stdout"
        }
      ]
    },
    {
      "cell_type": "code",
      "metadata": {
        "id": "dg-0tXwxmAxT",
        "colab_type": "code",
        "outputId": "1cccaabb-f38b-468b-9875-2919bb888f56",
        "colab": {
          "base_uri": "https://localhost:8080/",
          "height": 35
        }
      },
      "source": [
        "from zipfile import ZipFile\n",
        "filepath = \"/content/cell-images-for-detecting-malaria.zip\"\n",
        "with ZipFile(filepath,\"r\") as zip:\n",
        "    zip.extractall()\n",
        "    print(\"Done\")"
      ],
      "execution_count": 2,
      "outputs": [
        {
          "output_type": "stream",
          "text": [
            "Done\n"
          ],
          "name": "stdout"
        }
      ]
    },
    {
      "cell_type": "code",
      "metadata": {
        "id": "3gE8noKj8glM",
        "colab_type": "code",
        "colab": {}
      },
      "source": [
        "import os"
      ],
      "execution_count": 0,
      "outputs": []
    },
    {
      "cell_type": "code",
      "metadata": {
        "id": "uoMMPDLl8m25",
        "colab_type": "code",
        "colab": {}
      },
      "source": [
        "list1 = os.listdir(\"/content/cell_images/Parasitized\")\n",
        "list2 = os.listdir(\"/content/cell_images/Uninfected\")"
      ],
      "execution_count": 0,
      "outputs": []
    },
    {
      "cell_type": "code",
      "metadata": {
        "id": "fDlIzhj-COZV",
        "colab_type": "code",
        "colab": {
          "base_uri": "https://localhost:8080/",
          "height": 35
        },
        "outputId": "d96ff010-002e-4207-dd26-ba189d090617"
      },
      "source": [
        "list1.pop(11668)\n",
        "list2.pop(11766)"
      ],
      "execution_count": 142,
      "outputs": [
        {
          "output_type": "execute_result",
          "data": {
            "text/plain": [
              "'Thumbs.db'"
            ]
          },
          "metadata": {
            "tags": []
          },
          "execution_count": 142
        }
      ]
    },
    {
      "cell_type": "code",
      "metadata": {
        "id": "l9-6VH1vCnqL",
        "colab_type": "code",
        "colab": {}
      },
      "source": [
        "list_uninfec = []\n",
        "for i in range(len(list2)):\n",
        "    list_uninfec.append(os.path.join(\"/content/cell_images/Uninfected\",list2[i]))"
      ],
      "execution_count": 0,
      "outputs": []
    },
    {
      "cell_type": "code",
      "metadata": {
        "id": "zmu3_fHL9DNa",
        "colab_type": "code",
        "colab": {}
      },
      "source": [
        "list_infected = []\n",
        "for i in range(len(list1)):\n",
        "    list_infected.append(os.path.join(\"/content/cell_images/Parasitized\",list1[i]))\n"
      ],
      "execution_count": 0,
      "outputs": []
    },
    {
      "cell_type": "code",
      "metadata": {
        "id": "PxE3N3zQ-Ffl",
        "colab_type": "code",
        "outputId": "cd7f39b6-d10e-44c6-e89d-1e26e6037e8c",
        "colab": {
          "base_uri": "https://localhost:8080/",
          "height": 108
        }
      },
      "source": [
        "list_infected[:5]"
      ],
      "execution_count": 10,
      "outputs": [
        {
          "output_type": "execute_result",
          "data": {
            "text/plain": [
              "['/content/cell_images/Parasitized/C84P45ThinF_IMG_20150818_101056_cell_98.png',\n",
              " '/content/cell_images/Parasitized/C118P79ThinF_IMG_20151002_104831_cell_168.png',\n",
              " '/content/cell_images/Parasitized/C179P140ThinF_IMG_20151127_153521_cell_165.png',\n",
              " '/content/cell_images/Parasitized/C80P41ThinF_IMG_20150817_111943_cell_15.png',\n",
              " '/content/cell_images/Parasitized/C184P145ThinF_IMG_20151203_102543_cell_174.png']"
            ]
          },
          "metadata": {
            "tags": []
          },
          "execution_count": 10
        }
      ]
    },
    {
      "cell_type": "code",
      "metadata": {
        "id": "eyfX3wNo-I7k",
        "colab_type": "code",
        "outputId": "0de1fcf1-1c72-4583-bc25-449e245dc3cf",
        "colab": {
          "base_uri": "https://localhost:8080/",
          "height": 108
        }
      },
      "source": [
        "list_uninfec[:5]"
      ],
      "execution_count": 11,
      "outputs": [
        {
          "output_type": "execute_result",
          "data": {
            "text/plain": [
              "['/content/cell_images/Uninfected/C4thin_original_IMG_20150608_170016_cell_218.png',\n",
              " '/content/cell_images/Uninfected/C80P41ThinF_IMG_20150817_110957_cell_34.png',\n",
              " '/content/cell_images/Uninfected/C138P99ThinF_IMG_20151005_173241_cell_21.png',\n",
              " '/content/cell_images/Uninfected/C75P36_ThinF_IMG_20150815_163225_cell_1.png',\n",
              " '/content/cell_images/Uninfected/C154P115ThinF_IMG_20151115_141507_cell_110.png']"
            ]
          },
          "metadata": {
            "tags": []
          },
          "execution_count": 11
        }
      ]
    },
    {
      "cell_type": "code",
      "metadata": {
        "id": "WMSKo8tN_r1X",
        "colab_type": "code",
        "colab": {}
      },
      "source": [
        "import matplotlib.pyplot as plt\n"
      ],
      "execution_count": 0,
      "outputs": []
    },
    {
      "cell_type": "code",
      "metadata": {
        "id": "-36QDeWlAF4J",
        "colab_type": "code",
        "outputId": "064d1ddd-63d7-4742-e0ef-0f7b1deaae1c",
        "colab": {
          "base_uri": "https://localhost:8080/",
          "height": 287
        }
      },
      "source": [
        "img = plt.imread(list_uninfec[11766])\n",
        "plt.imshow(img)"
      ],
      "execution_count": 147,
      "outputs": [
        {
          "output_type": "execute_result",
          "data": {
            "text/plain": [
              "<matplotlib.image.AxesImage at 0x7f761d5cdf28>"
            ]
          },
          "metadata": {
            "tags": []
          },
          "execution_count": 147
        },
        {
          "output_type": "display_data",
          "data": {
            "image/png": "[encoded data removed]",
            "text/plain": [
              "<Figure size 432x288 with 1 Axes>"
            ]
          },
          "metadata": {
            "tags": []
          }
        }
      ]
    },
    {
      "cell_type": "code",
      "metadata": {
        "id": "TuGmbcHzALNV",
        "colab_type": "code",
        "colab": {}
      },
      "source": [
        "import cv2"
      ],
      "execution_count": 0,
      "outputs": []
    },
    {
      "cell_type": "code",
      "metadata": {
        "id": "nvGrC-3qw48R",
        "colab_type": "code",
        "colab": {}
      },
      "source": [
        "import numpy as np"
      ],
      "execution_count": 0,
      "outputs": []
    },
    {
      "cell_type": "markdown",
      "metadata": {
        "id": "c7uZ__ymLQ2h",
        "colab_type": "text"
      },
      "source": [
        "# CHECKING HOW MANY UNINFECTED CELL IS DETECTED"
      ]
    },
    {
      "cell_type": "code",
      "metadata": {
        "id": "wiljR-rkEb-l",
        "colab_type": "code",
        "colab": {}
      },
      "source": [
        "list3 = []\n",
        "list4 = []\n",
        "for i in range(len(list_uninfec)):\n",
        "    img = cv2.imread(list_uninfec[i],1)\n",
        "    gray = cv2.cvtColor(img,cv2.COLOR_BGR2GRAY)\n",
        "    gray[gray<1]=255\n",
        "    ret,mask = cv2.threshold(gray,110,255,cv2.THRESH_BINARY)\n",
        "    if np.unique(mask).shape[0] == 1:\n",
        "        list3.append(i)\n",
        "    else:\n",
        "        continue"
      ],
      "execution_count": 0,
      "outputs": []
    },
    {
      "cell_type": "code",
      "metadata": {
        "id": "SyTauF1V9269",
        "colab_type": "code",
        "colab": {
          "base_uri": "https://localhost:8080/",
          "height": 35
        },
        "outputId": "b29e33e5-8904-4633-e124-c18ba9aab1f2"
      },
      "source": [
        "print(\"The percentage of predicting uninfected cell: \",(len(list3)/len(list2))*100)"
      ],
      "execution_count": 236,
      "outputs": [
        {
          "output_type": "stream",
          "text": [
            "The percentage of predicting uninfected cell:  94.2013208505697\n"
          ],
          "name": "stdout"
        }
      ]
    },
    {
      "cell_type": "markdown",
      "metadata": {
        "id": "pN4kFNB8MWYB",
        "colab_type": "text"
      },
      "source": [
        "# CHECKING HOW MANY INFECTED CELL IS DETECTED"
      ]
    },
    {
      "cell_type": "code",
      "metadata": {
        "id": "-TmulL3yEbzZ",
        "colab_type": "code",
        "colab": {}
      },
      "source": [
        "list5 = []\n",
        "list6 = []\n",
        "for i in range(len(list_infected)):\n",
        "    img = cv2.imread(list_infected[i],1)\n",
        "    gray = cv2.cvtColor(img,cv2.COLOR_BGR2GRAY)\n",
        "    gray[gray<1]=255\n",
        "    ret,mask = cv2.threshold(gray,110,255,cv2.THRESH_BINARY)\n",
        "    if np.unique(mask).shape[0] == 2:\n",
        "        list5.append(i)\n",
        "    else:\n",
        "        continue"
      ],
      "execution_count": 0,
      "outputs": []
    },
    {
      "cell_type": "code",
      "metadata": {
        "id": "PsL_YQQAGekw",
        "colab_type": "code",
        "colab": {
          "base_uri": "https://localhost:8080/",
          "height": 35
        },
        "outputId": "e11bbee2-0e20-4a77-a57d-b22068227601"
      },
      "source": [
        "print(\"The percentage of predicting uninfected cell: \",(len(list5)/len(list1))*100)"
      ],
      "execution_count": 237,
      "outputs": [
        {
          "output_type": "stream",
          "text": [
            "The percentage of predicting uninfected cell:  94.06342985702881\n"
          ],
          "name": "stdout"
        }
      ]
    },
    {
      "cell_type": "code",
      "metadata": {
        "id": "M3njGmpmHOUG",
        "colab_type": "code",
        "colab": {}
      },
      "source": [
        ""
      ],
      "execution_count": 0,
      "outputs": []
    }
  ]
}